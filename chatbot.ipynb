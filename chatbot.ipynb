{
  "nbformat": 4,
  "nbformat_minor": 0,
  "metadata": {
    "colab": {
      "name": "chatbot.ipynb",
      "provenance": [],
      "collapsed_sections": [],
      "toc_visible": true
    },
    "kernelspec": {
      "name": "python3",
      "display_name": "Python 3"
    },
    "language_info": {
      "name": "python"
    },
    "accelerator": "TPU"
  },
  "cells": [
    {
      "cell_type": "markdown",
      "metadata": {
        "id": "UfYjmIFaTvQg"
      },
      "source": [
        "# **BUILDING A CHATBOT WITH DEEP NLP**\n",
        "\n",
        "---\n",
        "\n",
        "\n"
      ]
    },
    {
      "cell_type": "markdown",
      "metadata": {
        "id": "gjkGMW8AT4BI"
      },
      "source": [
        "## **IMPORTING THE LIBRARIES**"
      ]
    },
    {
      "cell_type": "code",
      "metadata": {
        "id": "d2JZ3PyCT-d6"
      },
      "source": [
        "import numpy as np\n",
        "import tensorflow as tf\n",
        "import re\n",
        "import time"
      ],
      "execution_count": 1,
      "outputs": []
    },
    {
      "cell_type": "code",
      "metadata": {
        "colab": {
          "base_uri": "https://localhost:8080/"
        },
        "id": "eq9_lA0TUIoP",
        "outputId": "abf53067-cedc-482b-eea2-02b4f65ef338"
      },
      "source": [
        "from google.colab import drive\n",
        "drive.mount('/content/drive')"
      ],
      "execution_count": 2,
      "outputs": [
        {
          "output_type": "stream",
          "text": [
            "Drive already mounted at /content/drive; to attempt to forcibly remount, call drive.mount(\"/content/drive\", force_remount=True).\n"
          ],
          "name": "stdout"
        }
      ]
    },
    {
      "cell_type": "markdown",
      "metadata": {
        "id": "d0ppNDC5UZfc"
      },
      "source": [
        "## **STEP 1: DATA PREPROCESSING**"
      ]
    },
    {
      "cell_type": "markdown",
      "metadata": {
        "id": "JHPEUKm-UecM"
      },
      "source": [
        "### **IMPORTING THE DATASET**"
      ]
    },
    {
      "cell_type": "code",
      "metadata": {
        "id": "c1DFSCl8Ugyc"
      },
      "source": [
        "path = '/content/drive/My Drive'"
      ],
      "execution_count": 3,
      "outputs": []
    },
    {
      "cell_type": "code",
      "metadata": {
        "id": "OI7O5pluVIcr"
      },
      "source": [
        "lines = open(path+'/movie_lines.txt', encoding = 'utf-8', errors = 'ignore').read().split('\\n')\n",
        "conversations = open(path+'/movie_conversations.txt', encoding = 'utf-8', errors = 'ignore').read().split('\\n')"
      ],
      "execution_count": 4,
      "outputs": []
    },
    {
      "cell_type": "code",
      "metadata": {
        "colab": {
          "base_uri": "https://localhost:8080/"
        },
        "id": "wfe0NAxZbNUJ",
        "outputId": "2c07165a-baf6-4039-d037-234161957514"
      },
      "source": [
        "lines[0:20]"
      ],
      "execution_count": 5,
      "outputs": [
        {
          "output_type": "execute_result",
          "data": {
            "text/plain": [
              "['L1045 +++$+++ u0 +++$+++ m0 +++$+++ BIANCA +++$+++ They do not!',\n",
              " 'L1044 +++$+++ u2 +++$+++ m0 +++$+++ CAMERON +++$+++ They do to!',\n",
              " 'L985 +++$+++ u0 +++$+++ m0 +++$+++ BIANCA +++$+++ I hope so.',\n",
              " 'L984 +++$+++ u2 +++$+++ m0 +++$+++ CAMERON +++$+++ She okay?',\n",
              " \"L925 +++$+++ u0 +++$+++ m0 +++$+++ BIANCA +++$+++ Let's go.\",\n",
              " 'L924 +++$+++ u2 +++$+++ m0 +++$+++ CAMERON +++$+++ Wow',\n",
              " \"L872 +++$+++ u0 +++$+++ m0 +++$+++ BIANCA +++$+++ Okay -- you're gonna need to learn how to lie.\",\n",
              " 'L871 +++$+++ u2 +++$+++ m0 +++$+++ CAMERON +++$+++ No',\n",
              " 'L870 +++$+++ u0 +++$+++ m0 +++$+++ BIANCA +++$+++ I\\'m kidding.  You know how sometimes you just become this \"persona\"?  And you don\\'t know how to quit?',\n",
              " 'L869 +++$+++ u0 +++$+++ m0 +++$+++ BIANCA +++$+++ Like my fear of wearing pastels?',\n",
              " 'L868 +++$+++ u2 +++$+++ m0 +++$+++ CAMERON +++$+++ The \"real you\".',\n",
              " 'L867 +++$+++ u0 +++$+++ m0 +++$+++ BIANCA +++$+++ What good stuff?',\n",
              " \"L866 +++$+++ u2 +++$+++ m0 +++$+++ CAMERON +++$+++ I figured you'd get to the good stuff eventually.\",\n",
              " 'L865 +++$+++ u2 +++$+++ m0 +++$+++ CAMERON +++$+++ Thank God!  If I had to hear one more story about your coiffure...',\n",
              " \"L864 +++$+++ u0 +++$+++ m0 +++$+++ BIANCA +++$+++ Me.  This endless ...blonde babble. I'm like, boring myself.\",\n",
              " 'L863 +++$+++ u2 +++$+++ m0 +++$+++ CAMERON +++$+++ What crap?',\n",
              " 'L862 +++$+++ u0 +++$+++ m0 +++$+++ BIANCA +++$+++ do you listen to this crap?',\n",
              " 'L861 +++$+++ u2 +++$+++ m0 +++$+++ CAMERON +++$+++ No...',\n",
              " 'L860 +++$+++ u0 +++$+++ m0 +++$+++ BIANCA +++$+++ Then Guillermo says, \"If you go any lighter, you\\'re gonna look like an extra on 90210.\"',\n",
              " 'L699 +++$+++ u2 +++$+++ m0 +++$+++ CAMERON +++$+++ You always been this selfish?']"
            ]
          },
          "metadata": {
            "tags": []
          },
          "execution_count": 5
        }
      ]
    },
    {
      "cell_type": "code",
      "metadata": {
        "colab": {
          "base_uri": "https://localhost:8080/"
        },
        "id": "vBnDBPs7bPoS",
        "outputId": "9d124d48-16d5-4669-8772-99e973e2cbc5"
      },
      "source": [
        "conversations[0:20]"
      ],
      "execution_count": 6,
      "outputs": [
        {
          "output_type": "execute_result",
          "data": {
            "text/plain": [
              "[\"u0 +++$+++ u2 +++$+++ m0 +++$+++ ['L194', 'L195', 'L196', 'L197']\",\n",
              " \"u0 +++$+++ u2 +++$+++ m0 +++$+++ ['L198', 'L199']\",\n",
              " \"u0 +++$+++ u2 +++$+++ m0 +++$+++ ['L200', 'L201', 'L202', 'L203']\",\n",
              " \"u0 +++$+++ u2 +++$+++ m0 +++$+++ ['L204', 'L205', 'L206']\",\n",
              " \"u0 +++$+++ u2 +++$+++ m0 +++$+++ ['L207', 'L208']\",\n",
              " \"u0 +++$+++ u2 +++$+++ m0 +++$+++ ['L271', 'L272', 'L273', 'L274', 'L275']\",\n",
              " \"u0 +++$+++ u2 +++$+++ m0 +++$+++ ['L276', 'L277']\",\n",
              " \"u0 +++$+++ u2 +++$+++ m0 +++$+++ ['L280', 'L281']\",\n",
              " \"u0 +++$+++ u2 +++$+++ m0 +++$+++ ['L363', 'L364']\",\n",
              " \"u0 +++$+++ u2 +++$+++ m0 +++$+++ ['L365', 'L366']\",\n",
              " \"u0 +++$+++ u2 +++$+++ m0 +++$+++ ['L367', 'L368']\",\n",
              " \"u0 +++$+++ u2 +++$+++ m0 +++$+++ ['L401', 'L402', 'L403']\",\n",
              " \"u0 +++$+++ u2 +++$+++ m0 +++$+++ ['L404', 'L405', 'L406', 'L407']\",\n",
              " \"u0 +++$+++ u2 +++$+++ m0 +++$+++ ['L575', 'L576']\",\n",
              " \"u0 +++$+++ u2 +++$+++ m0 +++$+++ ['L577', 'L578']\",\n",
              " \"u0 +++$+++ u2 +++$+++ m0 +++$+++ ['L662', 'L663']\",\n",
              " \"u0 +++$+++ u2 +++$+++ m0 +++$+++ ['L693', 'L694', 'L695']\",\n",
              " \"u0 +++$+++ u2 +++$+++ m0 +++$+++ ['L696', 'L697', 'L698', 'L699']\",\n",
              " \"u0 +++$+++ u2 +++$+++ m0 +++$+++ ['L860', 'L861']\",\n",
              " \"u0 +++$+++ u2 +++$+++ m0 +++$+++ ['L862', 'L863', 'L864', 'L865']\"]"
            ]
          },
          "metadata": {
            "tags": []
          },
          "execution_count": 6
        }
      ]
    },
    {
      "cell_type": "markdown",
      "metadata": {
        "id": "FAjqikVuVkTr"
      },
      "source": [
        "### **CREATING A DICTIONARY THAT MAPS EACH LINES AND ITS ID**"
      ]
    },
    {
      "cell_type": "code",
      "metadata": {
        "id": "LMYOXvUaVbgb"
      },
      "source": [
        "id2line = {}\n",
        "\n",
        "for line in lines :\n",
        "  _line = line.split(' +++$+++ ') # splitting the line by the code word `+++$+++`\n",
        "  if len(_line) == 5 : \n",
        "      id2line[_line[0]] = _line[4]"
      ],
      "execution_count": 7,
      "outputs": []
    },
    {
      "cell_type": "markdown",
      "metadata": {
        "id": "RWcae1fTX6cU"
      },
      "source": [
        "### **CREATING A LIST OF ALL OF THE CONVERSATIONS**"
      ]
    },
    {
      "cell_type": "code",
      "metadata": {
        "id": "4kxKSUiIX1xm"
      },
      "source": [
        "conversations_ids = []\n",
        "\n",
        "for conversation in conversations[:-1] : \n",
        "  _conversation = conversation.split(' +++$+++ ')[-1][1:-1].replace(\"'\", \"\").replace(\" \", \"\")\n",
        "  conversations_ids.append(_conversation.split(','))"
      ],
      "execution_count": 8,
      "outputs": []
    },
    {
      "cell_type": "code",
      "metadata": {
        "colab": {
          "base_uri": "https://localhost:8080/"
        },
        "id": "P_IWnldiZiyv",
        "outputId": "54a93911-3ca0-4d57-e1bb-1897a40010b8"
      },
      "source": [
        "conversations_ids[0:20]"
      ],
      "execution_count": 9,
      "outputs": [
        {
          "output_type": "execute_result",
          "data": {
            "text/plain": [
              "[['L194', 'L195', 'L196', 'L197'],\n",
              " ['L198', 'L199'],\n",
              " ['L200', 'L201', 'L202', 'L203'],\n",
              " ['L204', 'L205', 'L206'],\n",
              " ['L207', 'L208'],\n",
              " ['L271', 'L272', 'L273', 'L274', 'L275'],\n",
              " ['L276', 'L277'],\n",
              " ['L280', 'L281'],\n",
              " ['L363', 'L364'],\n",
              " ['L365', 'L366'],\n",
              " ['L367', 'L368'],\n",
              " ['L401', 'L402', 'L403'],\n",
              " ['L404', 'L405', 'L406', 'L407'],\n",
              " ['L575', 'L576'],\n",
              " ['L577', 'L578'],\n",
              " ['L662', 'L663'],\n",
              " ['L693', 'L694', 'L695'],\n",
              " ['L696', 'L697', 'L698', 'L699'],\n",
              " ['L860', 'L861'],\n",
              " ['L862', 'L863', 'L864', 'L865']]"
            ]
          },
          "metadata": {
            "tags": []
          },
          "execution_count": 9
        }
      ]
    },
    {
      "cell_type": "markdown",
      "metadata": {
        "id": "7GAGeHm8ZybJ"
      },
      "source": [
        "### **GET THE QUESTIONS AND THE ANSWERS SEPARATELY**"
      ]
    },
    {
      "cell_type": "code",
      "metadata": {
        "id": "q_Bg9-e4Z2QF"
      },
      "source": [
        "questions = []\n",
        "answers = []\n",
        "\n",
        "for conversation in conversations_ids :\n",
        "  for i in range (len(conversation) - 1) : \n",
        "    questions.append(id2line[conversation[i]])\n",
        "    answers.append(id2line[conversation[i+1]])"
      ],
      "execution_count": 10,
      "outputs": []
    },
    {
      "cell_type": "code",
      "metadata": {
        "colab": {
          "base_uri": "https://localhost:8080/"
        },
        "id": "zW8yUeIZaw78",
        "outputId": "e0984a97-334f-4e5b-c76d-4e9dd94b0e0e"
      },
      "source": [
        "questions[0:20]"
      ],
      "execution_count": 11,
      "outputs": [
        {
          "output_type": "execute_result",
          "data": {
            "text/plain": [
              "['Can we make this quick?  Roxanne Korrine and Andrew Barrett are having an incredibly horrendous public break- up on the quad.  Again.',\n",
              " \"Well, I thought we'd start with pronunciation, if that's okay with you.\",\n",
              " 'Not the hacking and gagging and spitting part.  Please.',\n",
              " \"You're asking me out.  That's so cute. What's your name again?\",\n",
              " \"No, no, it's my fault -- we didn't have a proper introduction ---\",\n",
              " 'Cameron.',\n",
              " \"The thing is, Cameron -- I'm at the mercy of a particularly hideous breed of loser.  My sister.  I can't date until she does.\",\n",
              " 'Why?',\n",
              " 'Unsolved mystery.  She used to be really popular when she started high school, then it was just like she got sick of it or something.',\n",
              " 'Gosh, if only we could find Kat a boyfriend...',\n",
              " \"C'esc ma tete. This is my head\",\n",
              " \"Right.  See?  You're ready for the quiz.\",\n",
              " \"I don't want to know how to say that though.  I want to know useful things. Like where the good stores are.  How much does champagne cost?  Stuff like Chat.  I have never in my life had to point out my head to someone.\",\n",
              " \"That's because it's such a nice one.\",\n",
              " 'How is our little Find the Wench A Date plan progressing?',\n",
              " 'There.',\n",
              " 'You got something on your mind?',\n",
              " 'You have my word.  As a gentleman',\n",
              " 'How do you get your hair to look like that?',\n",
              " 'Sure have.']"
            ]
          },
          "metadata": {
            "tags": []
          },
          "execution_count": 11
        }
      ]
    },
    {
      "cell_type": "code",
      "metadata": {
        "colab": {
          "base_uri": "https://localhost:8080/"
        },
        "id": "2PIAMsqda4ip",
        "outputId": "d242d060-c071-45fe-fb6b-5de0741eda62"
      },
      "source": [
        "answers[0:20]"
      ],
      "execution_count": 12,
      "outputs": [
        {
          "output_type": "execute_result",
          "data": {
            "text/plain": [
              "[\"Well, I thought we'd start with pronunciation, if that's okay with you.\",\n",
              " 'Not the hacking and gagging and spitting part.  Please.',\n",
              " \"Okay... then how 'bout we try out some French cuisine.  Saturday?  Night?\",\n",
              " 'Forget it.',\n",
              " 'Cameron.',\n",
              " \"The thing is, Cameron -- I'm at the mercy of a particularly hideous breed of loser.  My sister.  I can't date until she does.\",\n",
              " 'Seems like she could get a date easy enough...',\n",
              " 'Unsolved mystery.  She used to be really popular when she started high school, then it was just like she got sick of it or something.',\n",
              " \"That's a shame.\",\n",
              " 'Let me see what I can do.',\n",
              " \"Right.  See?  You're ready for the quiz.\",\n",
              " \"I don't want to know how to say that though.  I want to know useful things. Like where the good stores are.  How much does champagne cost?  Stuff like Chat.  I have never in my life had to point out my head to someone.\",\n",
              " \"That's because it's such a nice one.\",\n",
              " 'Forget French.',\n",
              " \"Well, there's someone I think might be --\",\n",
              " 'Where?',\n",
              " \"I counted on you to help my cause. You and that thug are obviously failing. Aren't we ever going on our date?\",\n",
              " \"You're sweet.\",\n",
              " \"Eber's Deep Conditioner every two days. And I never, ever use a blowdryer without the diffuser attachment.\",\n",
              " \"I really, really, really wanna go, but I can't.  Not unless my sister goes.\"]"
            ]
          },
          "metadata": {
            "tags": []
          },
          "execution_count": 12
        }
      ]
    },
    {
      "cell_type": "markdown",
      "metadata": {
        "id": "Z_ZJ2rO8bk2c"
      },
      "source": [
        "### **CLEANING ALL THE TEXTS FUNCTION**"
      ]
    },
    {
      "cell_type": "code",
      "metadata": {
        "id": "mZr4sNCbboPm"
      },
      "source": [
        "def clean_text(text):\n",
        "    text = text.lower() # to lower case every letter in the text\n",
        "    text = re.sub(r\"i'm\", \"i am\", text)\n",
        "    text = re.sub(r\"he's\", \"he is\", text)\n",
        "    text = re.sub(r\"she's\", \"she is\", text)\n",
        "    text = re.sub(r\"that's\", \"that is\", text)\n",
        "    text = re.sub(r\"what's\", \"what is\", text)\n",
        "    text = re.sub(r\"where's\", \"where is\", text)\n",
        "    text = re.sub(r\"\\'ll\", \" will\", text)\n",
        "    text = re.sub(r\"\\'ve\", \" have\", text)\n",
        "    text = re.sub(r\"\\'re\", \" are\", text)\n",
        "    text = re.sub(r\"\\'d\", \" would\", text)\n",
        "    text = re.sub(r\"won't\", \"will not\", text)\n",
        "    text = re.sub(r\"can't\", \"cannot\", text)\n",
        "    text = re.sub(r\"[-()\\\"#/@;:<>{}+=~|.?,]\", \"\", text)\n",
        "    return text"
      ],
      "execution_count": 13,
      "outputs": []
    },
    {
      "cell_type": "markdown",
      "metadata": {
        "id": "8joFvfFWd-39"
      },
      "source": [
        "### **CLEANING THE QUESTIONS**"
      ]
    },
    {
      "cell_type": "code",
      "metadata": {
        "id": "0ykaQrLfd9X7"
      },
      "source": [
        "clean_questions = []\n",
        "\n",
        "for question in questions : \n",
        "  clean_questions.append(clean_text(question))"
      ],
      "execution_count": 14,
      "outputs": []
    },
    {
      "cell_type": "code",
      "metadata": {
        "colab": {
          "base_uri": "https://localhost:8080/"
        },
        "id": "FBSzp9KQehFX",
        "outputId": "95cc2b9e-bd4f-41c7-b9b4-9582a0d7619b"
      },
      "source": [
        "clean_questions[0:20]"
      ],
      "execution_count": 15,
      "outputs": [
        {
          "output_type": "execute_result",
          "data": {
            "text/plain": [
              "['can we make this quick  roxanne korrine and andrew barrett are having an incredibly horrendous public break up on the quad  again',\n",
              " 'well i thought we would start with pronunciation if that is okay with you',\n",
              " 'not the hacking and gagging and spitting part  please',\n",
              " 'you are asking me out  that is so cute what is your name again',\n",
              " \"no no it's my fault  we didn't have a proper introduction \",\n",
              " 'cameron',\n",
              " 'the thing is cameron  i am at the mercy of a particularly hideous breed of loser  my sister  i cannot date until she does',\n",
              " 'why',\n",
              " 'unsolved mystery  she used to be really popular when she started high school then it was just like she got sick of it or something',\n",
              " 'gosh if only we could find kat a boyfriend',\n",
              " \"c'esc ma tete this is my head\",\n",
              " 'right  see  you are ready for the quiz',\n",
              " \"i don't want to know how to say that though  i want to know useful things like where the good stores are  how much does champagne cost  stuff like chat  i have never in my life had to point out my head to someone\",\n",
              " \"that is because it's such a nice one\",\n",
              " 'how is our little find the wench a date plan progressing',\n",
              " 'there',\n",
              " 'you got something on your mind',\n",
              " 'you have my word  as a gentleman',\n",
              " 'how do you get your hair to look like that',\n",
              " 'sure have']"
            ]
          },
          "metadata": {
            "tags": []
          },
          "execution_count": 15
        }
      ]
    },
    {
      "cell_type": "markdown",
      "metadata": {
        "id": "TbGszFk5eW3a"
      },
      "source": [
        "### **CLEANING THE ANSWERS**"
      ]
    },
    {
      "cell_type": "code",
      "metadata": {
        "id": "_tSXcwBBeZRT"
      },
      "source": [
        "clean_answers = []\n",
        "\n",
        "for answer in answers : \n",
        "  clean_answers.append(clean_text(answer))"
      ],
      "execution_count": 16,
      "outputs": []
    },
    {
      "cell_type": "code",
      "metadata": {
        "colab": {
          "base_uri": "https://localhost:8080/"
        },
        "id": "ftTpHEKmej0n",
        "outputId": "18593256-344a-4b0f-f374-290aba33fdbd"
      },
      "source": [
        "clean_answers[0:20]"
      ],
      "execution_count": 17,
      "outputs": [
        {
          "output_type": "execute_result",
          "data": {
            "text/plain": [
              "['well i thought we would start with pronunciation if that is okay with you',\n",
              " 'not the hacking and gagging and spitting part  please',\n",
              " \"okay then how 'bout we try out some french cuisine  saturday  night\",\n",
              " 'forget it',\n",
              " 'cameron',\n",
              " 'the thing is cameron  i am at the mercy of a particularly hideous breed of loser  my sister  i cannot date until she does',\n",
              " 'seems like she could get a date easy enough',\n",
              " 'unsolved mystery  she used to be really popular when she started high school then it was just like she got sick of it or something',\n",
              " 'that is a shame',\n",
              " 'let me see what i can do',\n",
              " 'right  see  you are ready for the quiz',\n",
              " \"i don't want to know how to say that though  i want to know useful things like where the good stores are  how much does champagne cost  stuff like chat  i have never in my life had to point out my head to someone\",\n",
              " \"that is because it's such a nice one\",\n",
              " 'forget french',\n",
              " \"well there's someone i think might be \",\n",
              " 'where',\n",
              " \"i counted on you to help my cause you and that thug are obviously failing aren't we ever going on our date\",\n",
              " 'you are sweet',\n",
              " \"eber's deep conditioner every two days and i never ever use a blowdryer without the diffuser attachment\",\n",
              " 'i really really really wanna go but i cannot  not unless my sister goes']"
            ]
          },
          "metadata": {
            "tags": []
          },
          "execution_count": 17
        }
      ]
    },
    {
      "cell_type": "markdown",
      "metadata": {
        "id": "vtFQEBsGjd_B"
      },
      "source": [
        "### **REMOVING THE NON FREQUENT WORDS OCCURING BY CREATING A CORPUS**\n",
        "\n",
        "**CREATING A DICTIONARY THAT MAPS EACH WORD TO ITS NUMBER OF OCCURANCES**"
      ]
    },
    {
      "cell_type": "code",
      "metadata": {
        "id": "KWTkD453jlpC"
      },
      "source": [
        "word2count = {}\n",
        "\n",
        "for question in clean_questions : \n",
        "  for word in question.split() :\n",
        "    if word not in word2count : \n",
        "      word2count[word] = 1\n",
        "    else :\n",
        "      word2count[word] += 1\n",
        "\n",
        "for answer in clean_answers : \n",
        "  for word in answer.split() :\n",
        "    if word not in word2count : \n",
        "      word2count[word] = 1\n",
        "    else :\n",
        "      word2count[word] += 1"
      ],
      "execution_count": 18,
      "outputs": []
    },
    {
      "cell_type": "markdown",
      "metadata": {
        "id": "S5XNMFzmjnoZ"
      },
      "source": [
        "### **CREATING TWO DICTIONARIES THAT MAP THE QUESTIONS WORDS AND ANSWERS WORDS TO A UNIQUE INTEGERS**\n",
        "\n",
        "**TOKENISATION AND FILTERING THE NON FREQUENT WORDS**"
      ]
    },
    {
      "cell_type": "code",
      "metadata": {
        "id": "LMktzoUBjs7a"
      },
      "source": [
        "threshold = 20\n",
        "questionsWords2int = {}\n",
        "word_number = 0\n",
        "\n",
        "for word, count in word2count.items() :\n",
        "  if count >= threshold : \n",
        "    questionsWords2int[word] = word_number\n",
        "    word_number += 1\n",
        "\n",
        "answersWords2int = {}   \n",
        "word_number = 0\n",
        "\n",
        "for word, count in word2count.items() :\n",
        "  if count >= threshold : \n",
        "    answersWords2int[word] = word_number\n",
        "    word_number += 1"
      ],
      "execution_count": 19,
      "outputs": []
    },
    {
      "cell_type": "markdown",
      "metadata": {
        "id": "w6vu3JQjkg_p"
      },
      "source": [
        "**ADDING THE LAST TOKENS TO THESE DICTIONARIES**"
      ]
    },
    {
      "cell_type": "code",
      "metadata": {
        "id": "heNFO8iCklvg"
      },
      "source": [
        "tokens = ['<PAD>', '<EOS>', '<OUT>', '<SOS>']\n",
        "\n",
        "for token in tokens:\n",
        "    questionsWords2int[token] = len(questionsWords2int) + 1\n",
        "for token in tokens:\n",
        "    answersWords2int[token] = len(answersWords2int) + 1"
      ],
      "execution_count": 20,
      "outputs": []
    },
    {
      "cell_type": "markdown",
      "metadata": {
        "id": "iOTXpJ9EyKix"
      },
      "source": [
        "### **CREATING THE INVERSE DICTIONARY OF THE ANSWERSWORDS2INT DICTIONARY**\n",
        "\n",
        "This is to inverse map the integers in the answerWords2int dictionary to individual words."
      ]
    },
    {
      "cell_type": "code",
      "metadata": {
        "id": "rVeKrfSOyZQD"
      },
      "source": [
        "answersInt2Words = {w_i : w for w, w_i in answersWords2int.items()}"
      ],
      "execution_count": 21,
      "outputs": []
    },
    {
      "cell_type": "markdown",
      "metadata": {
        "id": "QpSyG9hqzNu6"
      },
      "source": [
        "### **ADDING THE `<EOS>` TOKEN TO THE END OF EVERY ANSWERS IN THE LIST**"
      ]
    },
    {
      "cell_type": "code",
      "metadata": {
        "id": "DKRxTxTIzTTp"
      },
      "source": [
        "for i in range (len(clean_answers)) :\n",
        "  clean_answers[i] += ' <EOS>' "
      ],
      "execution_count": 22,
      "outputs": []
    },
    {
      "cell_type": "code",
      "metadata": {
        "colab": {
          "base_uri": "https://localhost:8080/"
        },
        "id": "81b3Piulz23B",
        "outputId": "8139a4d7-1c15-4ec2-cb3c-f3f49675a074"
      },
      "source": [
        "clean_answers[0:20]"
      ],
      "execution_count": 23,
      "outputs": [
        {
          "output_type": "execute_result",
          "data": {
            "text/plain": [
              "['well i thought we would start with pronunciation if that is okay with you <EOS>',\n",
              " 'not the hacking and gagging and spitting part  please <EOS>',\n",
              " \"okay then how 'bout we try out some french cuisine  saturday  night <EOS>\",\n",
              " 'forget it <EOS>',\n",
              " 'cameron <EOS>',\n",
              " 'the thing is cameron  i am at the mercy of a particularly hideous breed of loser  my sister  i cannot date until she does <EOS>',\n",
              " 'seems like she could get a date easy enough <EOS>',\n",
              " 'unsolved mystery  she used to be really popular when she started high school then it was just like she got sick of it or something <EOS>',\n",
              " 'that is a shame <EOS>',\n",
              " 'let me see what i can do <EOS>',\n",
              " 'right  see  you are ready for the quiz <EOS>',\n",
              " \"i don't want to know how to say that though  i want to know useful things like where the good stores are  how much does champagne cost  stuff like chat  i have never in my life had to point out my head to someone <EOS>\",\n",
              " \"that is because it's such a nice one <EOS>\",\n",
              " 'forget french <EOS>',\n",
              " \"well there's someone i think might be  <EOS>\",\n",
              " 'where <EOS>',\n",
              " \"i counted on you to help my cause you and that thug are obviously failing aren't we ever going on our date <EOS>\",\n",
              " 'you are sweet <EOS>',\n",
              " \"eber's deep conditioner every two days and i never ever use a blowdryer without the diffuser attachment <EOS>\",\n",
              " 'i really really really wanna go but i cannot  not unless my sister goes <EOS>']"
            ]
          },
          "metadata": {
            "tags": []
          },
          "execution_count": 23
        }
      ]
    },
    {
      "cell_type": "markdown",
      "metadata": {
        "id": "yBNNKbdBz2Sx"
      },
      "source": [
        "### **TRANSLATING ALL THE QUESTIONS AND ANSWERS TO INTEGERS AND REPLACING ALL THE WORDS WHICH WERE FILTERED OUT BY `<OUT>`**"
      ]
    },
    {
      "cell_type": "code",
      "metadata": {
        "id": "dq5uiCau02SS"
      },
      "source": [
        "questions_to_int = []\n",
        "\n",
        "for question in clean_questions :\n",
        "  ints = []\n",
        "  for word in question.split() :\n",
        "    if word not in questionsWords2int :\n",
        "      ints.append(questionsWords2int['<OUT>'])\n",
        "    else :\n",
        "      ints.append(questionsWords2int[word])\n",
        "  questions_to_int.append(ints)      "
      ],
      "execution_count": 24,
      "outputs": []
    },
    {
      "cell_type": "code",
      "metadata": {
        "id": "uFp1jEVX2IU3"
      },
      "source": [
        "answers_to_int = []\n",
        "\n",
        "for answer in clean_answers :\n",
        "  ints = []\n",
        "  for word in answer.split() :\n",
        "    if word not in answersWords2int :\n",
        "      ints.append(answersWords2int['<OUT>'])\n",
        "    else :\n",
        "      ints.append(answersWords2int[word])\n",
        "  answers_to_int.append(ints) "
      ],
      "execution_count": 25,
      "outputs": []
    },
    {
      "cell_type": "markdown",
      "metadata": {
        "id": "WqBf22Ew2sZx"
      },
      "source": [
        "### **SORTING THE QUESTIONS AND ANSWERS BY THE LENGTH OF THE QUESTIONS**"
      ]
    },
    {
      "cell_type": "code",
      "metadata": {
        "id": "fAZaF6hW2x-q"
      },
      "source": [
        "sorted_clean_questions = []\n",
        "sorted_clean_answers = []\n",
        "\n",
        "for length in range (1, 25) : # Min length = 1, Max length = 24\n",
        "  for i in enumerate(questions_to_int) :\n",
        "    if len(i[1]) == length :\n",
        "      sorted_clean_questions.append(questions_to_int[i[0]])\n",
        "      sorted_clean_answers.append(answers_to_int[i[0]])"
      ],
      "execution_count": 26,
      "outputs": []
    },
    {
      "cell_type": "code",
      "metadata": {
        "colab": {
          "base_uri": "https://localhost:8080/"
        },
        "id": "rwVCY8Om4dQf",
        "outputId": "2889bbcb-8100-4841-a8e4-7c242ed85638"
      },
      "source": [
        "sorted_clean_questions[0:20]"
      ],
      "execution_count": 27,
      "outputs": [
        {
          "output_type": "execute_result",
          "data": {
            "text/plain": [
              "[[47],\n",
              " [62],\n",
              " [123],\n",
              " [147],\n",
              " [135],\n",
              " [39],\n",
              " [175],\n",
              " [39],\n",
              " [182],\n",
              " [183],\n",
              " [221],\n",
              " [36],\n",
              " [62],\n",
              " [135],\n",
              " [62],\n",
              " [110],\n",
              " [375],\n",
              " [132],\n",
              " [297],\n",
              " [211]]"
            ]
          },
          "metadata": {
            "tags": []
          },
          "execution_count": 27
        }
      ]
    },
    {
      "cell_type": "code",
      "metadata": {
        "colab": {
          "base_uri": "https://localhost:8080/"
        },
        "id": "_TjBBe2V4fmr",
        "outputId": "c5655beb-428b-4c7a-8ff7-607661d4e19b"
      },
      "source": [
        "sorted_clean_answers[0:20]"
      ],
      "execution_count": 28,
      "outputs": [
        {
          "output_type": "execute_result",
          "data": {
            "text/plain": [
              "[[15,\n",
              "  48,\n",
              "  25,\n",
              "  47,\n",
              "  18,\n",
              "  49,\n",
              "  50,\n",
              "  15,\n",
              "  51,\n",
              "  52,\n",
              "  45,\n",
              "  53,\n",
              "  8824,\n",
              "  54,\n",
              "  52,\n",
              "  55,\n",
              "  41,\n",
              "  56,\n",
              "  18,\n",
              "  57,\n",
              "  58,\n",
              "  59,\n",
              "  60,\n",
              "  61,\n",
              "  8823],\n",
              " [8824,\n",
              "  63,\n",
              "  60,\n",
              "  64,\n",
              "  65,\n",
              "  66,\n",
              "  67,\n",
              "  68,\n",
              "  69,\n",
              "  60,\n",
              "  70,\n",
              "  71,\n",
              "  72,\n",
              "  73,\n",
              "  74,\n",
              "  75,\n",
              "  76,\n",
              "  77,\n",
              "  60,\n",
              "  78,\n",
              "  79,\n",
              "  52,\n",
              "  74,\n",
              "  80,\n",
              "  81,\n",
              "  8823],\n",
              " [102, 8823],\n",
              " [1529, 77, 101, 1550, 33, 149, 608, 8823],\n",
              " [27, 153, 227, 3, 6453, 8823],\n",
              " [26, 27, 7, 160, 253, 65, 1280, 97, 65, 613, 8823],\n",
              " [1387, 134, 8823],\n",
              " [27, 239, 133, 194, 226, 74, 8823],\n",
              " [196, 8823],\n",
              " [20, 27, 124, 612, 32, 45, 1512, 47, 8823],\n",
              " [41,\n",
              "  2582,\n",
              "  157,\n",
              "  18,\n",
              "  44,\n",
              "  78,\n",
              "  45,\n",
              "  103,\n",
              "  1112,\n",
              "  50,\n",
              "  963,\n",
              "  15,\n",
              "  8824,\n",
              "  144,\n",
              "  219,\n",
              "  519,\n",
              "  8823],\n",
              " [111, 8824, 93, 45, 271, 8823],\n",
              " [180, 75, 77, 45, 272, 273, 8823],\n",
              " [279,\n",
              "  24,\n",
              "  18,\n",
              "  280,\n",
              "  18,\n",
              "  20,\n",
              "  110,\n",
              "  128,\n",
              "  281,\n",
              "  76,\n",
              "  116,\n",
              "  278,\n",
              "  267,\n",
              "  75,\n",
              "  264,\n",
              "  74,\n",
              "  5,\n",
              "  18,\n",
              "  282,\n",
              "  283,\n",
              "  284,\n",
              "  93,\n",
              "  8824,\n",
              "  152,\n",
              "  5,\n",
              "  41,\n",
              "  8824,\n",
              "  8824,\n",
              "  285,\n",
              "  8823],\n",
              " [116, 60, 244, 4625, 383, 297, 8823],\n",
              " [8824, 358, 119, 359, 360, 361, 15, 362, 119, 363, 364, 5, 8824, 8823],\n",
              " [129, 376, 8823],\n",
              " [73, 134, 129, 141, 8823],\n",
              " [37, 56, 181, 8823],\n",
              " [36, 128, 27, 194, 8823]]"
            ]
          },
          "metadata": {
            "tags": []
          },
          "execution_count": 28
        }
      ]
    }
  ]
}